{
 "cells": [
  {
   "cell_type": "markdown",
   "metadata": {},
   "source": [
    "#### Make list with genes names"
   ]
  },
  {
   "cell_type": "code",
   "execution_count": 25,
   "metadata": {},
   "outputs": [
    {
     "data": {
      "text/plain": [
       "'gene-STM14_RS01340'"
      ]
     },
     "execution_count": 25,
     "metadata": {},
     "output_type": "execute_result"
    }
   ],
   "source": [
    "gene_names_list = []\n",
    "with open('../data/sorted_p_adj_genes.txt', 'r') as file:\n",
    "    for line in file:\n",
    "        gene_names_list.append(line.strip().split('|')[0])\n"
   ]
  },
  {
   "cell_type": "markdown",
   "metadata": {},
   "source": [
    "#### Make dict with gene names: locus_tag"
   ]
  },
  {
   "cell_type": "code",
   "execution_count": 26,
   "metadata": {},
   "outputs": [],
   "source": [
    "add_info = []\n",
    "with open('../data/genefile.txt', 'r') as file:\n",
    "    for line in file:\n",
    "        add_info.append(line.strip())"
   ]
  },
  {
   "cell_type": "code",
   "execution_count": 27,
   "metadata": {},
   "outputs": [],
   "source": [
    "key_list = list(map(lambda x: x.split(';')[0].split('=')[-1], add_info))"
   ]
  },
  {
   "cell_type": "code",
   "execution_count": 28,
   "metadata": {},
   "outputs": [],
   "source": [
    "value_list = []\n",
    "for line in add_info:\n",
    "    if \"old_locus_tag\" in line:\n",
    "        value_list.append(line.split('old_locus_tag=')[-1])\n",
    "    else:\n",
    "        value_list.append(line.split('locus_tag=')[-1])\n",
    "# old lucus tag or locus tag if old locus tag is None\n",
    "value_list_2 = []\n",
    "for line in value_list:\n",
    "    if len(line.split(\";\")) > 1:\n",
    "        value_list_2.append(line.split(\";\")[0])\n",
    "    else:\n",
    "        value_list_2.append(line)"
   ]
  },
  {
   "cell_type": "code",
   "execution_count": 29,
   "metadata": {},
   "outputs": [],
   "source": [
    "id_dict = {key_list[i] : value_list_2[i] for i in range(len(key_list))}"
   ]
  },
  {
   "cell_type": "markdown",
   "metadata": {},
   "source": [
    "#### Make function for Module-Gene transforming"
   ]
  },
  {
   "cell_type": "code",
   "execution_count": 30,
   "metadata": {},
   "outputs": [],
   "source": [
    "def module_transform(module_file:str):\n",
    "    module = []\n",
    "    with open(module_file, \"r\") as file:\n",
    "        for line in file:\n",
    "            module.append(line.strip())\n",
    "    module = module[1:]\n",
    "    module = list(map(lambda x: x.split('\\t')[-1], module))\n",
    "    module = list(map(lambda x: x.split('|')[0], module))\n",
    "    new_module = list(map(lambda x: id_dict[x], module))\n",
    "    with open(\"New_\"+module_file, \"w\") as file:\n",
    "        for line in new_module:\n",
    "            file.write(line+\"\\n\")"
   ]
  },
  {
   "cell_type": "code",
   "execution_count": null,
   "metadata": {},
   "outputs": [],
   "source": [
    "module_transform(\"../negative_deg.txt\")\n",
    "module_transform(\"../positive_deg.txt\")"
   ]
  }
 ],
 "metadata": {
  "kernelspec": {
   "display_name": "Python 3 (ipykernel)",
   "language": "python",
   "name": "python3"
  },
  "language_info": {
   "codemirror_mode": {
    "name": "ipython",
    "version": 3
   },
   "file_extension": ".py",
   "mimetype": "text/x-python",
   "name": "python",
   "nbconvert_exporter": "python",
   "pygments_lexer": "ipython3",
   "version": "3.9.12"
  }
 },
 "nbformat": 4,
 "nbformat_minor": 4
}
