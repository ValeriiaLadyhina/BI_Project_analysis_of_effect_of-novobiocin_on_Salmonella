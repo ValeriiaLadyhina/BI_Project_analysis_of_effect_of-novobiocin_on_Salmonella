{
 "cells": [
  {
   "cell_type": "markdown",
   "metadata": {},
   "source": [
    "#### Make list with genes names"
   ]
  },
  {
   "cell_type": "code",
   "execution_count": 25,
   "metadata": {},
   "outputs": [
    {
     "data": {
      "text/plain": [
       "'gene-STM14_RS01340'"
      ]
     },
     "execution_count": 25,
     "metadata": {},
     "output_type": "execute_result"
    }
   ],
   "source": [
    "gene_names_list = []\n",
    "with open('../data/sorted_p_adj_genes.txt', 'r') as file:\n",
    "    for line in file:\n",
    "        gene_names_list.append(line.strip().split('|')[0])\n"
   ]
  },
  {
   "cell_type": "markdown",
   "metadata": {},
   "source": [
    "#### Make dict with gene names: locus_tag"
   ]
  },
  {
   "cell_type": "code",
   "execution_count": 26,
   "metadata": {},
   "outputs": [],
   "source": [
    "add_info = []\n",
    "with open('../data/genefile.txt', 'r') as file:\n",
    "    for line in file:\n",
    "        add_info.append(line.strip())"
   ]
  },
  {
   "cell_type": "code",
   "execution_count": 27,
   "metadata": {},
   "outputs": [],
   "source": [
    "key_list = list(map(lambda x: x.split(';')[0].split('=')[-1], add_info))"
   ]
  },
  {
   "cell_type": "code",
   "execution_count": 28,
   "metadata": {},
   "outputs": [],
   "source": [
    "value_list = []\n",
    "for line in add_info:\n",
    "    if \"old_locus_tag\" in line:\n",
    "        value_list.append(line.split('old_locus_tag=')[-1])\n",
    "    else:\n",
    "        value_list.append(line.split('locus_tag=')[-1])\n",
    "# old lucus tag or locus tag if old locus tag is None\n",
    "value_list_2 = []\n",
    "for line in value_list:\n",
    "    if len(line.split(\";\")) > 1:\n",
    "        value_list_2.append(line.split(\";\")[0])\n",
    "    else:\n",
    "        value_list_2.append(line)"
   ]
  },
  {
   "cell_type": "code",
   "execution_count": 29,
   "metadata": {},
   "outputs": [],
   "source": [
    "id_dict = {key_list[i] : value_list_2[i] for i in range(len(key_list))}"
   ]
  },
  {
   "cell_type": "markdown",
   "metadata": {},
   "source": [
    "#### Make function for Module-Gene transforming"
   ]
  },
  {
   "cell_type": "code",
   "execution_count": 30,
   "metadata": {},
   "outputs": [],
   "source": [
    "def module_transform(module_file:str):\n",
    "    module = []\n",
    "    with open(module_file, \"r\") as file:\n",
    "        for line in file:\n",
    "            module.append(line.strip())\n",
    "    module = module[1:]\n",
    "    module = list(map(lambda x: x.split('\\t')[-1], module))\n",
    "    module = list(map(lambda x: x.split('|')[0], module))\n",
    "    new_module = list(map(lambda x: id_dict[x], module))\n",
    "    with open(\"New_\"+module_file, \"w\") as file:\n",
    "        for line in new_module:\n",
    "            file.write(line+\"\\n\")"
   ]
  },
  {
   "cell_type": "code",
   "execution_count": 1,
   "metadata": {},
   "outputs": [],
   "source": [
    "import pandas as pd"
   ]
  },
  {
   "cell_type": "code",
   "execution_count": 3,
   "metadata": {},
   "outputs": [
    {
     "data": {
      "text/html": [
       "<div>\n",
       "<style scoped>\n",
       "    .dataframe tbody tr th:only-of-type {\n",
       "        vertical-align: middle;\n",
       "    }\n",
       "\n",
       "    .dataframe tbody tr th {\n",
       "        vertical-align: top;\n",
       "    }\n",
       "\n",
       "    .dataframe thead th {\n",
       "        text-align: right;\n",
       "    }\n",
       "</style>\n",
       "<table border=\"1\" class=\"dataframe\">\n",
       "  <thead>\n",
       "    <tr style=\"text-align: right;\">\n",
       "      <th></th>\n",
       "      <th>\\tx</th>\n",
       "    </tr>\n",
       "  </thead>\n",
       "  <tbody>\n",
       "    <tr>\n",
       "      <th>0</th>\n",
       "      <td>1\\tgene-STM14_RS00650</td>\n",
       "    </tr>\n",
       "    <tr>\n",
       "      <th>1</th>\n",
       "      <td>2\\tgene-STM14_RS00670</td>\n",
       "    </tr>\n",
       "    <tr>\n",
       "      <th>2</th>\n",
       "      <td>3\\tgene-STM14_RS00775</td>\n",
       "    </tr>\n",
       "    <tr>\n",
       "      <th>3</th>\n",
       "      <td>4\\tgene-STM14_RS00625</td>\n",
       "    </tr>\n",
       "    <tr>\n",
       "      <th>4</th>\n",
       "      <td>5\\tgene-STM14_RS00630</td>\n",
       "    </tr>\n",
       "    <tr>\n",
       "      <th>...</th>\n",
       "      <td>...</td>\n",
       "    </tr>\n",
       "    <tr>\n",
       "      <th>414</th>\n",
       "      <td>415\\tgene-STM14_RS23770</td>\n",
       "    </tr>\n",
       "    <tr>\n",
       "      <th>415</th>\n",
       "      <td>416\\tgene-STM14_RS23775</td>\n",
       "    </tr>\n",
       "    <tr>\n",
       "      <th>416</th>\n",
       "      <td>417\\tgene-STM14_RS23785</td>\n",
       "    </tr>\n",
       "    <tr>\n",
       "      <th>417</th>\n",
       "      <td>418\\tgene-STM14_RS23895</td>\n",
       "    </tr>\n",
       "    <tr>\n",
       "      <th>418</th>\n",
       "      <td>419\\tgene-STM14_RS23900</td>\n",
       "    </tr>\n",
       "  </tbody>\n",
       "</table>\n",
       "<p>419 rows × 1 columns</p>\n",
       "</div>"
      ],
      "text/plain": [
       "                         \\tx\n",
       "0      1\\tgene-STM14_RS00650\n",
       "1      2\\tgene-STM14_RS00670\n",
       "2      3\\tgene-STM14_RS00775\n",
       "3      4\\tgene-STM14_RS00625\n",
       "4      5\\tgene-STM14_RS00630\n",
       "..                       ...\n",
       "414  415\\tgene-STM14_RS23770\n",
       "415  416\\tgene-STM14_RS23775\n",
       "416  417\\tgene-STM14_RS23785\n",
       "417  418\\tgene-STM14_RS23895\n",
       "418  419\\tgene-STM14_RS23900\n",
       "\n",
       "[419 rows x 1 columns]"
      ]
     },
     "execution_count": 3,
     "metadata": {},
     "output_type": "execute_result"
    }
   ],
   "source": [
    "neg=pd.read_csv(\"../negative_deg.txt\")\n",
    "neg"
   ]
  },
  {
   "cell_type": "code",
   "execution_count": null,
   "metadata": {},
   "outputs": [],
   "source": [
    "module_transform(\"../negative_deg.txt\")\n",
    "module_transform(\"../positive_deg.txt\")"
   ]
  }
 ],
 "metadata": {
  "kernelspec": {
   "display_name": "Python 3 (ipykernel)",
   "language": "python",
   "name": "python3"
  },
  "language_info": {
   "codemirror_mode": {
    "name": "ipython",
    "version": 3
   },
   "file_extension": ".py",
   "mimetype": "text/x-python",
   "name": "python",
   "nbconvert_exporter": "python",
   "pygments_lexer": "ipython3",
   "version": "3.9.12"
  }
 },
 "nbformat": 4,
 "nbformat_minor": 4
}
